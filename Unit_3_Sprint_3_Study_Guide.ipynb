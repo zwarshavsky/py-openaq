{
 "cells": [
  {
   "cell_type": "markdown",
   "metadata": {
    "colab_type": "text",
    "id": "Nd2OOOVXxXS1"
   },
   "source": [
    "This study guide should reinforce and provide practice for all of the concepts you have seen in Unit 3 Sprint 3. There are a mix of written questions and coding exercises, both are equally important to prepare you for the sprint challenge as well as to be able to speak on these topics comfortably in interviews and on the job.\n",
    "\n",
    "If you get stuck or are unsure of something remember the 20 minute rule. If that doesn't help, then research a solution with google and stackoverflow. Only once you have exausted these methods should you turn to your Team Lead - they won't be there on your SC or during an interview. That being said, don't hesitate to ask for help if you truly are stuck.\n",
    "\n",
    "Have fun studying!"
   ]
  },
  {
   "cell_type": "markdown",
   "metadata": {
    "colab_type": "text",
    "id": "fpvInKdXekFi"
   },
   "source": [
    "## Questions"
   ]
  },
  {
   "cell_type": "markdown",
   "metadata": {
    "colab_type": "text",
    "id": "Q6bS8AhBZ86H"
   },
   "source": [
    "When completing this section, try to limit your answers to 2-3 sentences max and use plain english as much as possible. It's very easy to hide incomplete knowledge and undertanding behind fancy or technical words, so imagine you are explaining these things to a non-technical interviewer.\n",
    "\n",
    "1. What is Flask?\n",
    "```\n",
    "Flask is a python based framework for web applications. \n",
    "```\n",
    "\n",
    "2. What is OpenAQ API?\n",
    "\n",
    "```\n",
    "It is a provisional data service that provides air quality for a multitude of locations. \n",
    "```\n",
    "\n",
    "3. What is SQAlchemy\n",
    "```\n",
    "A python package for database integration that increases ease of use by eliminating need for mysql when running basic sql commands. \n",
    "```\n",
    "\n",
    "4. What is the Standard coding conventions for the Python code?\n",
    "```\n",
    "PEP8? Should be memorize the standards?\n",
    "\n",
    "```\n",
    "5. What is Heroku?\n",
    "```\n",
    "Heroku is a host for web applications. \n",
    "```"
   ]
  },
  {
   "cell_type": "markdown",
   "metadata": {
    "colab_type": "text",
    "id": "sj5-1Nnkpej6"
   },
   "source": [
    "### what to study"
   ]
  },
  {
   "cell_type": "markdown",
   "metadata": {
    "colab_type": "text",
    "id": "vz6CusBmpDgz"
   },
   "source": [
    "Flask App \n",
    "```\n",
    "```\n",
    "OpenAQ API\n",
    "```\n",
    "```\n",
    "your code follows the Standard coding conventions for the Python code\n",
    "```\n",
    "```\n",
    "SQAlchemy\n",
    "```\n",
    "```\n",
    "Dashboard and record query\n",
    "```\n",
    "```\n",
    "Heroku\n",
    "```\n"
   ]
  },
  {
   "cell_type": "markdown",
   "metadata": {
    "colab_type": "text",
    "id": "dUQaIwbceohq"
   },
   "source": [
    "## Practice Problems"
   ]
  },
  {
   "cell_type": "markdown",
   "metadata": {
    "colab_type": "text",
    "id": "4jnYgnFjP6eE"
   },
   "source": [
    "Installing The Package\n"
   ]
  },
  {
   "cell_type": "code",
   "execution_count": 24,
   "metadata": {
    "colab": {},
    "colab_type": "code",
    "id": "S9hFYrmqQlLA"
   },
   "outputs": [],
   "source": [
    "import sqlalchemy as db"
   ]
  },
  {
   "cell_type": "code",
   "execution_count": 2,
   "metadata": {},
   "outputs": [],
   "source": [
    "import openaq"
   ]
  },
  {
   "cell_type": "code",
   "execution_count": 44,
   "metadata": {},
   "outputs": [],
   "source": [
    "import pandas as pd"
   ]
  },
  {
   "cell_type": "code",
   "execution_count": 45,
   "metadata": {},
   "outputs": [
    {
     "data": {
      "text/plain": [
       "['API',\n",
       " 'ApiError',\n",
       " 'OpenAQ',\n",
       " '__all__',\n",
       " '__builtins__',\n",
       " '__cached__',\n",
       " '__doc__',\n",
       " '__file__',\n",
       " '__loader__',\n",
       " '__name__',\n",
       " '__package__',\n",
       " '__path__',\n",
       " '__spec__',\n",
       " '__version__',\n",
       " 'decorators',\n",
       " 'exceptions',\n",
       " 'get_distribution',\n",
       " 'json',\n",
       " 'math',\n",
       " 'pandasize',\n",
       " 'requests',\n",
       " 'utils']"
      ]
     },
     "execution_count": 45,
     "metadata": {},
     "output_type": "execute_result"
    }
   ],
   "source": [
    "dir(openaq)"
   ]
  },
  {
   "cell_type": "code",
   "execution_count": 46,
   "metadata": {},
   "outputs": [],
   "source": [
    "api = openaq.OpenAQ()"
   ]
  },
  {
   "cell_type": "code",
   "execution_count": 127,
   "metadata": {},
   "outputs": [],
   "source": [
    "resp = api.cities(df=True, limit=10000)"
   ]
  },
  {
   "cell_type": "code",
   "execution_count": 129,
   "metadata": {},
   "outputs": [
    {
     "data": {
      "text/html": [
       "<div>\n",
       "<style scoped>\n",
       "    .dataframe tbody tr th:only-of-type {\n",
       "        vertical-align: middle;\n",
       "    }\n",
       "\n",
       "    .dataframe tbody tr th {\n",
       "        vertical-align: top;\n",
       "    }\n",
       "\n",
       "    .dataframe thead th {\n",
       "        text-align: right;\n",
       "    }\n",
       "</style>\n",
       "<table border=\"1\" class=\"dataframe\">\n",
       "  <thead>\n",
       "    <tr style=\"text-align: right;\">\n",
       "      <th></th>\n",
       "      <th>city</th>\n",
       "      <th>count</th>\n",
       "      <th>country</th>\n",
       "      <th>locations</th>\n",
       "      <th>name</th>\n",
       "    </tr>\n",
       "  </thead>\n",
       "  <tbody>\n",
       "    <tr>\n",
       "      <th>0</th>\n",
       "      <td>Escaldes-Engordany</td>\n",
       "      <td>89835</td>\n",
       "      <td>AD</td>\n",
       "      <td>2</td>\n",
       "      <td>Escaldes-Engordany</td>\n",
       "    </tr>\n",
       "    <tr>\n",
       "      <th>1</th>\n",
       "      <td>unused</td>\n",
       "      <td>7667</td>\n",
       "      <td>AD</td>\n",
       "      <td>1</td>\n",
       "      <td>unused</td>\n",
       "    </tr>\n",
       "    <tr>\n",
       "      <th>2</th>\n",
       "      <td>Abu Dhabi</td>\n",
       "      <td>27856</td>\n",
       "      <td>AE</td>\n",
       "      <td>1</td>\n",
       "      <td>Abu Dhabi</td>\n",
       "    </tr>\n",
       "    <tr>\n",
       "      <th>3</th>\n",
       "      <td>Dubai</td>\n",
       "      <td>20800</td>\n",
       "      <td>AE</td>\n",
       "      <td>1</td>\n",
       "      <td>Dubai</td>\n",
       "    </tr>\n",
       "    <tr>\n",
       "      <th>4</th>\n",
       "      <td>N/A</td>\n",
       "      <td>1159</td>\n",
       "      <td>AE</td>\n",
       "      <td>2</td>\n",
       "      <td>N/A</td>\n",
       "    </tr>\n",
       "  </tbody>\n",
       "</table>\n",
       "</div>"
      ],
      "text/plain": [
       "                 city  count country  locations                name\n",
       "0  Escaldes-Engordany  89835      AD          2  Escaldes-Engordany\n",
       "1              unused   7667      AD          1              unused\n",
       "2           Abu Dhabi  27856      AE          1           Abu Dhabi\n",
       "3               Dubai  20800      AE          1               Dubai\n",
       "4                 N/A   1159      AE          2                 N/A"
      ]
     },
     "execution_count": 129,
     "metadata": {},
     "output_type": "execute_result"
    }
   ],
   "source": [
    "resp.head()"
   ]
  },
  {
   "cell_type": "code",
   "execution_count": 48,
   "metadata": {},
   "outputs": [],
   "source": [
    "locations = api.locations(df=True,limit=10000)"
   ]
  },
  {
   "cell_type": "code",
   "execution_count": 49,
   "metadata": {},
   "outputs": [
    {
     "data": {
      "text/html": [
       "<div>\n",
       "<style scoped>\n",
       "    .dataframe tbody tr th:only-of-type {\n",
       "        vertical-align: middle;\n",
       "    }\n",
       "\n",
       "    .dataframe tbody tr th {\n",
       "        vertical-align: top;\n",
       "    }\n",
       "\n",
       "    .dataframe thead th {\n",
       "        text-align: right;\n",
       "    }\n",
       "</style>\n",
       "<table border=\"1\" class=\"dataframe\">\n",
       "  <thead>\n",
       "    <tr style=\"text-align: right;\">\n",
       "      <th></th>\n",
       "      <th>coordinates.latitude</th>\n",
       "      <th>coordinates.longitude</th>\n",
       "      <th>count</th>\n",
       "    </tr>\n",
       "  </thead>\n",
       "  <tbody>\n",
       "    <tr>\n",
       "      <th>count</th>\n",
       "      <td>10000.000000</td>\n",
       "      <td>10000.000000</td>\n",
       "      <td>1.000000e+04</td>\n",
       "    </tr>\n",
       "    <tr>\n",
       "      <th>mean</th>\n",
       "      <td>37.849469</td>\n",
       "      <td>-10.910934</td>\n",
       "      <td>4.603008e+04</td>\n",
       "    </tr>\n",
       "    <tr>\n",
       "      <th>std</th>\n",
       "      <td>16.348822</td>\n",
       "      <td>82.789559</td>\n",
       "      <td>1.760065e+05</td>\n",
       "    </tr>\n",
       "    <tr>\n",
       "      <th>min</th>\n",
       "      <td>-72.011700</td>\n",
       "      <td>-161.767000</td>\n",
       "      <td>1.000000e+00</td>\n",
       "    </tr>\n",
       "    <tr>\n",
       "      <th>25%</th>\n",
       "      <td>34.275800</td>\n",
       "      <td>-93.673425</td>\n",
       "      <td>5.084250e+03</td>\n",
       "    </tr>\n",
       "    <tr>\n",
       "      <th>50%</th>\n",
       "      <td>40.220135</td>\n",
       "      <td>2.484440</td>\n",
       "      <td>2.395350e+04</td>\n",
       "    </tr>\n",
       "    <tr>\n",
       "      <th>75%</th>\n",
       "      <td>47.692080</td>\n",
       "      <td>30.015963</td>\n",
       "      <td>4.734525e+04</td>\n",
       "    </tr>\n",
       "    <tr>\n",
       "      <th>max</th>\n",
       "      <td>78.906690</td>\n",
       "      <td>153.402400</td>\n",
       "      <td>4.798650e+06</td>\n",
       "    </tr>\n",
       "  </tbody>\n",
       "</table>\n",
       "</div>"
      ],
      "text/plain": [
       "       coordinates.latitude  coordinates.longitude         count\n",
       "count          10000.000000           10000.000000  1.000000e+04\n",
       "mean              37.849469             -10.910934  4.603008e+04\n",
       "std               16.348822              82.789559  1.760065e+05\n",
       "min              -72.011700            -161.767000  1.000000e+00\n",
       "25%               34.275800             -93.673425  5.084250e+03\n",
       "50%               40.220135               2.484440  2.395350e+04\n",
       "75%               47.692080              30.015963  4.734525e+04\n",
       "max               78.906690             153.402400  4.798650e+06"
      ]
     },
     "execution_count": 49,
     "metadata": {},
     "output_type": "execute_result"
    }
   ],
   "source": [
    "locations.describe()"
   ]
  },
  {
   "cell_type": "markdown",
   "metadata": {
    "colab_type": "text",
    "id": "bCbET5ioQlmQ"
   },
   "source": [
    "Connecting to a database\n",
    "```\n",
    "```\n",
    "To start interacting with the database we first we need to establish a connection.Some examples of connecting to various databases can be found here https://docs.sqlalchemy.org/en/13/core/engines.html#postgresql"
   ]
  },
  {
   "cell_type": "code",
   "execution_count": 82,
   "metadata": {
    "colab": {},
    "colab_type": "code",
    "id": "lwNwPn5nQowi"
   },
   "outputs": [],
   "source": [
    "from sqlalchemy import orm\n",
    "from sqlalchemy import create_engine"
   ]
  },
  {
   "cell_type": "code",
   "execution_count": 104,
   "metadata": {},
   "outputs": [],
   "source": [
    "engine = create_engine('sqlite:///cities', echo=True)"
   ]
  },
  {
   "cell_type": "code",
   "execution_count": 105,
   "metadata": {},
   "outputs": [
    {
     "name": "stdout",
     "output_type": "stream",
     "text": [
      "2019-11-15 00:48:40,685 INFO sqlalchemy.engine.base.Engine SELECT CAST('test plain returns' AS VARCHAR(60)) AS anon_1\n",
      "2019-11-15 00:48:40,686 INFO sqlalchemy.engine.base.Engine ()\n",
      "2019-11-15 00:48:40,687 INFO sqlalchemy.engine.base.Engine SELECT CAST('test unicode returns' AS VARCHAR(60)) AS anon_1\n",
      "2019-11-15 00:48:40,688 INFO sqlalchemy.engine.base.Engine ()\n",
      "2019-11-15 00:48:40,690 INFO sqlalchemy.engine.base.Engine PRAGMA table_info(\"cities\")\n",
      "2019-11-15 00:48:40,691 INFO sqlalchemy.engine.base.Engine ()\n",
      "2019-11-15 00:48:40,695 INFO sqlalchemy.engine.base.Engine \n",
      "CREATE TABLE cities (\n",
      "\t\"index\" BIGINT, \n",
      "\tcity TEXT, \n",
      "\tcount BIGINT, \n",
      "\tcountry TEXT, \n",
      "\tlocations BIGINT, \n",
      "\tname TEXT\n",
      ")\n",
      "\n",
      "\n",
      "2019-11-15 00:48:40,696 INFO sqlalchemy.engine.base.Engine ()\n",
      "2019-11-15 00:48:40,699 INFO sqlalchemy.engine.base.Engine COMMIT\n",
      "2019-11-15 00:48:40,701 INFO sqlalchemy.engine.base.Engine CREATE INDEX ix_cities_index ON cities (\"index\")\n",
      "2019-11-15 00:48:40,702 INFO sqlalchemy.engine.base.Engine ()\n",
      "2019-11-15 00:48:40,710 INFO sqlalchemy.engine.base.Engine COMMIT\n",
      "2019-11-15 00:48:40,717 INFO sqlalchemy.engine.base.Engine BEGIN (implicit)\n",
      "2019-11-15 00:48:40,745 INFO sqlalchemy.engine.base.Engine INSERT INTO cities (\"index\", city, count, country, locations, name) VALUES (?, ?, ?, ?, ?, ?)\n",
      "2019-11-15 00:48:40,746 INFO sqlalchemy.engine.base.Engine ((0, 'Escaldes-Engordany', 89835, 'AD', 2, 'Escaldes-Engordany'), (1, 'unused', 7667, 'AD', 1, 'unused'), (2, 'Abu Dhabi', 27856, 'AE', 1, 'Abu Dhabi'), (3, 'Dubai', 20800, 'AE', 1, 'Dubai'), (4, 'N/A', 1159, 'AE', 2, 'N/A'), (5, 'Kabul', 532, 'AF', 1, 'Kabul'), (6, 'N/A', 328, 'AF', 1, 'N/A'), (7, 'Buenos Aires', 14976, 'AR', 4, 'Buenos Aires')  ... displaying 10 of 2790 total bound parameter sets ...  (2788, 'Prizren', 32682, 'XK', 1, 'Prizren'), (2789, 'Richards Bay', 239159, 'ZA', 3, 'Richards Bay'))\n",
      "2019-11-15 00:48:40,759 INFO sqlalchemy.engine.base.Engine COMMIT\n"
     ]
    }
   ],
   "source": [
    "resp.to_sql(\"cities\",con=engine, if_exists='replace')"
   ]
  },
  {
   "cell_type": "markdown",
   "metadata": {},
   "source": [
    "# Viewing Table"
   ]
  },
  {
   "cell_type": "code",
   "execution_count": 106,
   "metadata": {},
   "outputs": [
    {
     "name": "stdout",
     "output_type": "stream",
     "text": [
      "2019-11-15 00:48:55,855 INFO sqlalchemy.engine.base.Engine Select * FROM cities\n",
      "2019-11-15 00:48:55,857 INFO sqlalchemy.engine.base.Engine ()\n"
     ]
    },
    {
     "data": {
      "text/plain": [
       "(0, 'Escaldes-Engordany', 89835, 'AD', 2, 'Escaldes-Engordany')"
      ]
     },
     "execution_count": 106,
     "metadata": {},
     "output_type": "execute_result"
    }
   ],
   "source": [
    "engine.execute('Select * FROM cities').fetchone()"
   ]
  },
  {
   "cell_type": "code",
   "execution_count": 108,
   "metadata": {},
   "outputs": [],
   "source": [
    "engine2 = db.create_engine('sqlite:///cities')"
   ]
  },
  {
   "cell_type": "code",
   "execution_count": 109,
   "metadata": {},
   "outputs": [
    {
     "name": "stdout",
     "output_type": "stream",
     "text": [
      "2019-11-15 00:51:00,644 INFO sqlalchemy.engine.base.Engine PRAGMA table_info(\"cities\")\n",
      "2019-11-15 00:51:00,645 INFO sqlalchemy.engine.base.Engine ()\n",
      "2019-11-15 00:51:00,647 INFO sqlalchemy.engine.base.Engine SELECT sql FROM  (SELECT * FROM sqlite_master UNION ALL   SELECT * FROM sqlite_temp_master) WHERE name = 'cities' AND type = 'table'\n",
      "2019-11-15 00:51:00,648 INFO sqlalchemy.engine.base.Engine ()\n",
      "2019-11-15 00:51:00,650 INFO sqlalchemy.engine.base.Engine PRAGMA foreign_key_list(\"cities\")\n",
      "2019-11-15 00:51:00,650 INFO sqlalchemy.engine.base.Engine ()\n",
      "2019-11-15 00:51:00,652 INFO sqlalchemy.engine.base.Engine SELECT sql FROM  (SELECT * FROM sqlite_master UNION ALL   SELECT * FROM sqlite_temp_master) WHERE name = 'cities' AND type = 'table'\n",
      "2019-11-15 00:51:00,653 INFO sqlalchemy.engine.base.Engine ()\n",
      "2019-11-15 00:51:00,655 INFO sqlalchemy.engine.base.Engine PRAGMA index_list(\"cities\")\n",
      "2019-11-15 00:51:00,656 INFO sqlalchemy.engine.base.Engine ()\n",
      "2019-11-15 00:51:00,658 INFO sqlalchemy.engine.base.Engine PRAGMA index_info(\"ix_cities_index\")\n",
      "2019-11-15 00:51:00,658 INFO sqlalchemy.engine.base.Engine ()\n",
      "2019-11-15 00:51:00,660 INFO sqlalchemy.engine.base.Engine PRAGMA index_list(\"cities\")\n",
      "2019-11-15 00:51:00,661 INFO sqlalchemy.engine.base.Engine ()\n",
      "2019-11-15 00:51:00,663 INFO sqlalchemy.engine.base.Engine PRAGMA index_info(\"ix_cities_index\")\n",
      "2019-11-15 00:51:00,664 INFO sqlalchemy.engine.base.Engine ()\n",
      "2019-11-15 00:51:00,665 INFO sqlalchemy.engine.base.Engine SELECT sql FROM  (SELECT * FROM sqlite_master UNION ALL   SELECT * FROM sqlite_temp_master) WHERE name = 'cities' AND type = 'table'\n",
      "2019-11-15 00:51:00,667 INFO sqlalchemy.engine.base.Engine ()\n"
     ]
    }
   ],
   "source": [
    "connection = engine.connect()\n",
    "metadata = db.MetaData()\n",
    "cities = db.Table('cities', metadata, autoload=True, autoload_with=engine)"
   ]
  },
  {
   "cell_type": "code",
   "execution_count": 112,
   "metadata": {},
   "outputs": [
    {
     "name": "stdout",
     "output_type": "stream",
     "text": [
      "['index', 'city', 'count', 'country', 'locations', 'name']\n"
     ]
    }
   ],
   "source": [
    "print(cities.columns.keys())"
   ]
  },
  {
   "cell_type": "code",
   "execution_count": 115,
   "metadata": {},
   "outputs": [
    {
     "name": "stdout",
     "output_type": "stream",
     "text": [
      "Table('cities', MetaData(bind=None), Column('index', BIGINT(), table=<cities>), Column('city', TEXT(), table=<cities>), Column('count', BIGINT(), table=<cities>), Column('country', TEXT(), table=<cities>), Column('locations', BIGINT(), table=<cities>), Column('name', TEXT(), table=<cities>), schema=None)\n"
     ]
    }
   ],
   "source": [
    "print(repr(metadata.tables['cities']))"
   ]
  },
  {
   "cell_type": "code",
   "execution_count": 118,
   "metadata": {},
   "outputs": [
    {
     "data": {
      "text/plain": [
       "Table('cities', MetaData(bind=None), Column('index', BIGINT(), table=<cities>), Column('city', TEXT(), table=<cities>), Column('count', BIGINT(), table=<cities>), Column('country', TEXT(), table=<cities>), Column('locations', BIGINT(), table=<cities>), Column('name', TEXT(), table=<cities>), schema=None)"
      ]
     },
     "execution_count": 118,
     "metadata": {},
     "output_type": "execute_result"
    }
   ],
   "source": [
    "cities"
   ]
  },
  {
   "cell_type": "code",
   "execution_count": 120,
   "metadata": {},
   "outputs": [],
   "source": [
    "query = db.select([cities])"
   ]
  },
  {
   "cell_type": "code",
   "execution_count": 121,
   "metadata": {},
   "outputs": [
    {
     "name": "stdout",
     "output_type": "stream",
     "text": [
      "2019-11-15 01:01:22,336 INFO sqlalchemy.engine.base.Engine SELECT cities.\"index\", cities.city, cities.count, cities.country, cities.locations, cities.name \n",
      "FROM cities\n",
      "2019-11-15 01:01:22,337 INFO sqlalchemy.engine.base.Engine ()\n"
     ]
    }
   ],
   "source": [
    "ResultProxy = connection.execute(query)"
   ]
  },
  {
   "cell_type": "code",
   "execution_count": 122,
   "metadata": {},
   "outputs": [],
   "source": [
    "ResultSet = ResultProxy.fetchall()"
   ]
  },
  {
   "cell_type": "code",
   "execution_count": 126,
   "metadata": {},
   "outputs": [
    {
     "data": {
      "text/plain": [
       "[(0, 'Escaldes-Engordany', 89835, 'AD', 2, 'Escaldes-Engordany'),\n",
       " (1, 'unused', 7667, 'AD', 1, 'unused'),\n",
       " (2, 'Abu Dhabi', 27856, 'AE', 1, 'Abu Dhabi')]"
      ]
     },
     "execution_count": 126,
     "metadata": {},
     "output_type": "execute_result"
    }
   ],
   "source": [
    "ResultSet[:3]"
   ]
  },
  {
   "cell_type": "code",
   "execution_count": 140,
   "metadata": {},
   "outputs": [],
   "source": [
    "query2 = db.select([cities]).where(cities.columns.city == \"Dubai\")"
   ]
  },
  {
   "cell_type": "code",
   "execution_count": 141,
   "metadata": {},
   "outputs": [
    {
     "name": "stdout",
     "output_type": "stream",
     "text": [
      "2019-11-15 10:15:38,565 INFO sqlalchemy.engine.base.Engine SELECT cities.\"index\", cities.city, cities.count, cities.country, cities.locations, cities.name \n",
      "FROM cities \n",
      "WHERE cities.city = ?\n",
      "2019-11-15 10:15:38,567 INFO sqlalchemy.engine.base.Engine ('Dubai',)\n"
     ]
    }
   ],
   "source": [
    "ResultProxy = connection.execute(query2)"
   ]
  },
  {
   "cell_type": "code",
   "execution_count": 142,
   "metadata": {},
   "outputs": [
    {
     "data": {
      "text/plain": [
       "[(3, 'Dubai', 20800, 'AE', 1, 'Dubai')]"
      ]
     },
     "execution_count": 142,
     "metadata": {},
     "output_type": "execute_result"
    }
   ],
   "source": [
    "ResultProxy.fetchall()"
   ]
  },
  {
   "cell_type": "code",
   "execution_count": 133,
   "metadata": {},
   "outputs": [
    {
     "data": {
      "text/plain": [
       "Column('city', TEXT(), table=<cities>)"
      ]
     },
     "execution_count": 133,
     "metadata": {},
     "output_type": "execute_result"
    }
   ],
   "source": [
    "cities.columns.city"
   ]
  },
  {
   "cell_type": "markdown",
   "metadata": {},
   "source": [
    "# Attempt to use as Sqlalchemy ORM"
   ]
  },
  {
   "cell_type": "code",
   "execution_count": 75,
   "metadata": {},
   "outputs": [],
   "source": [
    "Session = orm.sessionmaker(bind='dest_db_con')\n",
    "\n",
    "session = Session()"
   ]
  },
  {
   "cell_type": "code",
   "execution_count": 117,
   "metadata": {},
   "outputs": [
    {
     "data": {
      "text/plain": [
       "'CREATE TABLE \"Resp\" (\\n\"city\" TEXT,\\n  \"count\" INTEGER,\\n  \"country\" TEXT,\\n  \"locations\" INTEGER,\\n  \"name\" TEXT\\n)'"
      ]
     },
     "execution_count": 117,
     "metadata": {},
     "output_type": "execute_result"
    }
   ],
   "source": [
    "pd.io.sql.get_schema(resp, 'Resp')"
   ]
  },
  {
   "cell_type": "code",
   "execution_count": 75,
   "metadata": {},
   "outputs": [],
   "source": [
    "from sqlalchemy import Table, Column, Integer, String, MetaData\n",
    "meta = MetaData()"
   ]
  },
  {
   "cell_type": "code",
   "execution_count": 116,
   "metadata": {},
   "outputs": [
    {
     "ename": "AttributeError",
     "evalue": "'Table' object has no attribute 'mapper'",
     "output_type": "error",
     "traceback": [
      "\u001b[0;31m---------------------------------------------------------------------------\u001b[0m",
      "\u001b[0;31mAttributeError\u001b[0m                            Traceback (most recent call last)",
      "\u001b[0;32m<ipython-input-116-1bdc226f548c>\u001b[0m in \u001b[0;36m<module>\u001b[0;34m\u001b[0m\n\u001b[1;32m     18\u001b[0m \u001b[0;31m# )\u001b[0m\u001b[0;34m\u001b[0m\u001b[0;34m\u001b[0m\u001b[0;34m\u001b[0m\u001b[0m\n\u001b[1;32m     19\u001b[0m \u001b[0;34m\u001b[0m\u001b[0m\n\u001b[0;32m---> 20\u001b[0;31m \u001b[0msession\u001b[0m\u001b[0;34m.\u001b[0m\u001b[0mbulk_insert_mappings\u001b[0m\u001b[0;34m(\u001b[0m\u001b[0mcities\u001b[0m\u001b[0;34m,\u001b[0m\u001b[0mresp\u001b[0m\u001b[0;34m.\u001b[0m\u001b[0mto_dict\u001b[0m\u001b[0;34m(\u001b[0m\u001b[0morient\u001b[0m\u001b[0;34m=\u001b[0m\u001b[0;34m\"resp\"\u001b[0m\u001b[0;34m)\u001b[0m\u001b[0;34m)\u001b[0m\u001b[0;34m\u001b[0m\u001b[0;34m\u001b[0m\u001b[0m\n\u001b[0m\u001b[1;32m     21\u001b[0m \u001b[0msession\u001b[0m\u001b[0;34m.\u001b[0m\u001b[0mclose\u001b[0m\u001b[0;34m(\u001b[0m\u001b[0;34m)\u001b[0m\u001b[0;34m\u001b[0m\u001b[0;34m\u001b[0m\u001b[0m\n",
      "\u001b[0;32m~/anaconda3/lib/python3.7/site-packages/sqlalchemy/orm/session.py\u001b[0m in \u001b[0;36mbulk_insert_mappings\u001b[0;34m(self, mapper, mappings, return_defaults, render_nulls)\u001b[0m\n\u001b[1;32m   2796\u001b[0m             \u001b[0mreturn_defaults\u001b[0m\u001b[0;34m,\u001b[0m\u001b[0;34m\u001b[0m\u001b[0;34m\u001b[0m\u001b[0m\n\u001b[1;32m   2797\u001b[0m             \u001b[0;32mFalse\u001b[0m\u001b[0;34m,\u001b[0m\u001b[0;34m\u001b[0m\u001b[0;34m\u001b[0m\u001b[0m\n\u001b[0;32m-> 2798\u001b[0;31m             \u001b[0mrender_nulls\u001b[0m\u001b[0;34m,\u001b[0m\u001b[0;34m\u001b[0m\u001b[0;34m\u001b[0m\u001b[0m\n\u001b[0m\u001b[1;32m   2799\u001b[0m         )\n\u001b[1;32m   2800\u001b[0m \u001b[0;34m\u001b[0m\u001b[0m\n",
      "\u001b[0;32m~/anaconda3/lib/python3.7/site-packages/sqlalchemy/orm/session.py\u001b[0m in \u001b[0;36m_bulk_save_mappings\u001b[0;34m(self, mapper, mappings, isupdate, isstates, return_defaults, update_changed_only, render_nulls)\u001b[0m\n\u001b[1;32m   2860\u001b[0m         \u001b[0mrender_nulls\u001b[0m\u001b[0;34m,\u001b[0m\u001b[0;34m\u001b[0m\u001b[0;34m\u001b[0m\u001b[0m\n\u001b[1;32m   2861\u001b[0m     ):\n\u001b[0;32m-> 2862\u001b[0;31m         \u001b[0mmapper\u001b[0m \u001b[0;34m=\u001b[0m \u001b[0m_class_to_mapper\u001b[0m\u001b[0;34m(\u001b[0m\u001b[0mmapper\u001b[0m\u001b[0;34m)\u001b[0m\u001b[0;34m\u001b[0m\u001b[0;34m\u001b[0m\u001b[0m\n\u001b[0m\u001b[1;32m   2863\u001b[0m         \u001b[0mself\u001b[0m\u001b[0;34m.\u001b[0m\u001b[0m_flushing\u001b[0m \u001b[0;34m=\u001b[0m \u001b[0;32mTrue\u001b[0m\u001b[0;34m\u001b[0m\u001b[0;34m\u001b[0m\u001b[0m\n\u001b[1;32m   2864\u001b[0m \u001b[0;34m\u001b[0m\u001b[0m\n",
      "\u001b[0;32m~/anaconda3/lib/python3.7/site-packages/sqlalchemy/orm/base.py\u001b[0m in \u001b[0;36m_class_to_mapper\u001b[0;34m(class_or_mapper)\u001b[0m\n\u001b[1;32m    327\u001b[0m     \u001b[0minsp\u001b[0m \u001b[0;34m=\u001b[0m \u001b[0minspection\u001b[0m\u001b[0;34m.\u001b[0m\u001b[0minspect\u001b[0m\u001b[0;34m(\u001b[0m\u001b[0mclass_or_mapper\u001b[0m\u001b[0;34m,\u001b[0m \u001b[0;32mFalse\u001b[0m\u001b[0;34m)\u001b[0m\u001b[0;34m\u001b[0m\u001b[0;34m\u001b[0m\u001b[0m\n\u001b[1;32m    328\u001b[0m     \u001b[0;32mif\u001b[0m \u001b[0minsp\u001b[0m \u001b[0;32mis\u001b[0m \u001b[0;32mnot\u001b[0m \u001b[0;32mNone\u001b[0m\u001b[0;34m:\u001b[0m\u001b[0;34m\u001b[0m\u001b[0;34m\u001b[0m\u001b[0m\n\u001b[0;32m--> 329\u001b[0;31m         \u001b[0;32mreturn\u001b[0m \u001b[0minsp\u001b[0m\u001b[0;34m.\u001b[0m\u001b[0mmapper\u001b[0m\u001b[0;34m\u001b[0m\u001b[0;34m\u001b[0m\u001b[0m\n\u001b[0m\u001b[1;32m    330\u001b[0m     \u001b[0;32melse\u001b[0m\u001b[0;34m:\u001b[0m\u001b[0;34m\u001b[0m\u001b[0;34m\u001b[0m\u001b[0m\n\u001b[1;32m    331\u001b[0m         \u001b[0;32mraise\u001b[0m \u001b[0mexc\u001b[0m\u001b[0;34m.\u001b[0m\u001b[0mUnmappedClassError\u001b[0m\u001b[0;34m(\u001b[0m\u001b[0mclass_or_mapper\u001b[0m\u001b[0;34m)\u001b[0m\u001b[0;34m\u001b[0m\u001b[0;34m\u001b[0m\u001b[0m\n",
      "\u001b[0;31mAttributeError\u001b[0m: 'Table' object has no attribute 'mapper'"
     ]
    }
   ],
   "source": [
    "# class Resp(db.Model):\n",
    "#     __tablename__ = 'Resp'\n",
    "#     city = Column(Text, primary_key=True)\n",
    "#     count = Column(Integer)\n",
    "#     country = Column(Text)\n",
    "#     locations = Column(Integer)\n",
    "#     name = Column(Text)\n",
    "\n",
    "\n",
    "# Resp = Table(\n",
    "#    'resp', meta, \n",
    "#     Column('id', Integer, primary_key = True), \n",
    "#     Column('city', String),\n",
    "#     Column('count', Integer),\n",
    "#     Column('country', String), \n",
    "#     Column('locations', Integer),\n",
    "#     Column('name', String),\n",
    "# )\n",
    "\n",
    "session.bulk_insert_mappings(cities,resp.to_dict(orient=\"resp\"))\n",
    "session.close()"
   ]
  },
  {
   "cell_type": "markdown",
   "metadata": {},
   "source": [
    "# Sample Code - See Above for working version of ORM"
   ]
  },
  {
   "cell_type": "markdown",
   "metadata": {
    "colab_type": "text",
    "id": "2hq-PhcTQph7"
   },
   "source": [
    "Viewing Table Details\n",
    "```\n",
    "```\n",
    "SQLAlchemy can be used to automatically load tables from a database using something called reflection. Reflection is the process of reading the database and building the metadata based on that information."
   ]
  },
  {
   "cell_type": "markdown",
   "metadata": {},
   "source": [
    "# Not Sure how to utilize the below"
   ]
  },
  {
   "cell_type": "code",
   "execution_count": null,
   "metadata": {
    "colab": {
     "base_uri": "https://localhost:8080/",
     "height": 395
    },
    "colab_type": "code",
    "id": "ZsWsuYwXRRP3",
    "outputId": "8888f37f-1740-435a-9b4b-1a52a08254f3"
   },
   "outputs": [],
   "source": [
    "#for example\n",
    "\n",
    "import sqlalchemy as db\n",
    "\n",
    "engine = db.create_engine('sqlite:///census.sqlite')\n",
    "connection = engine.connect()\n",
    "metadata = db.MetaData()\n",
    "census = db.Table('census', metadata, autoload=True, autoload_with=engine)"
   ]
  },
  {
   "cell_type": "code",
   "execution_count": 10,
   "metadata": {
    "colab": {
     "base_uri": "https://localhost:8080/",
     "height": 34
    },
    "colab_type": "code",
    "id": "ScovMuwvRdtq",
    "outputId": "0366d278-748f-49e9-dc1e-6608af9590c2"
   },
   "outputs": [
    {
     "name": "stdout",
     "output_type": "stream",
     "text": [
      "[]\n"
     ]
    }
   ],
   "source": [
    "# Print the column names\n",
    "print(census.columns.keys())\n",
    "# ['state', 'sex', 'age', 'pop2000', 'pop2008']"
   ]
  },
  {
   "cell_type": "code",
   "execution_count": null,
   "metadata": {
    "colab": {},
    "colab_type": "code",
    "id": "xjjcuin7IF5Z"
   },
   "outputs": [],
   "source": [
    "# # Print full table metadata\n",
    "# print(repr(metadata.tables['census']))"
   ]
  },
  {
   "cell_type": "markdown",
   "metadata": {
    "colab_type": "text",
    "id": "qwHiBjZcR2Gy"
   },
   "source": [
    "https://towardsdatascience.com/sqlalchemy-python-tutorial-79a577141a91"
   ]
  }
 ],
 "metadata": {
  "colab": {
   "collapsed_sections": [],
   "name": "Unit 3 Sprint 3 - Study Guide.ipynb",
   "provenance": []
  },
  "kernelspec": {
   "display_name": "Python 3",
   "language": "python",
   "name": "python3"
  },
  "language_info": {
   "codemirror_mode": {
    "name": "ipython",
    "version": 3
   },
   "file_extension": ".py",
   "mimetype": "text/x-python",
   "name": "python",
   "nbconvert_exporter": "python",
   "pygments_lexer": "ipython3",
   "version": "3.7.3"
  }
 },
 "nbformat": 4,
 "nbformat_minor": 4
}
